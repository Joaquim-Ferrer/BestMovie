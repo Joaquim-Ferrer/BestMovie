{
 "cells": [
  {
   "cell_type": "code",
   "execution_count": 27,
   "metadata": {
    "collapsed": true
   },
   "outputs": [],
   "source": [
    "import pandas\n",
    "\n",
    "names = [\"MovieId\", \"UserId\", \"Helpfullness\", \"Rating\", \"Time\"]\n",
    "                                                                                                                                                                                                                                                                                                                                                                                                                                                                                                                                                                                                                                                                                                                                                                                                                                                                                                                                                                                                                                                                                                                                                                                                \n",
    "movies = pandas.read_csv(\"sample.csv\", names = names, dtype={\"Rating\": \"int64\"})\n",
    "\n",
    "movies = movies.sample(1000)"
   ]
  },
  {
   "cell_type": "code",
   "execution_count": 63,
   "metadata": {
    "collapsed": false
   },
   "outputs": [],
   "source": [
    "from scipy.sparse import lil_matrix \n",
    "\n",
    "movies_ids = movies['MovieId'].unique()\n",
    "\n",
    "M = lil_matrix((movies_ids.shape[0], movies_ids.shape[0]))"
   ]
  },
  {
   "cell_type": "code",
   "execution_count": 9,
   "metadata": {
    "collapsed": false
   },
   "outputs": [
    {
     "ename": "SyntaxError",
     "evalue": "unexpected EOF while parsing (<ipython-input-9-bdc462de7312>, line 3)",
     "output_type": "error",
     "traceback": [
      "\u001b[0;36m  File \u001b[0;32m\"<ipython-input-9-bdc462de7312>\"\u001b[0;36m, line \u001b[0;32m3\u001b[0m\n\u001b[0;31m    if movie_2 == movie_1:\u001b[0m\n\u001b[0m                          ^\u001b[0m\n\u001b[0;31mSyntaxError\u001b[0m\u001b[0;31m:\u001b[0m unexpected EOF while parsing\n"
     ]
    }
   ],
   "source": [
    "max_ks = 10\n",
    "\n",
    "for i_1, movie_1 in enumerate(movies_ids):\n",
    "    min_sim = -2\n",
    "    similar_items = [] #list of tuples (item, similarity)\n",
    "    \n",
    "    for i_2, movie_2 in enumerate(movies_ids):\n",
    "        if movie_2 == movie_1:\n",
    "            continue\n",
    "        sim_1_2 = sim(movie_1, movie_2)\n",
    "        \n",
    "        if(sim_1_2 > min_sim):\n",
    "            similar_items.append((i_1, sim_1_2))\n",
    "            similar_items.sort(key = lambda x: x[1])\n",
    "            similar_items = similar_items[0:30]\n",
    "            min_sim = similar_items[-1]\n",
    "            \n",
    "    \n"
   ]
  },
  {
   "cell_type": "code",
   "execution_count": 98,
   "metadata": {
    "collapsed": false,
    "scrolled": true
   },
   "outputs": [
    {
     "name": "stdout",
     "output_type": "stream",
     "text": [
      "[2.0]\n"
     ]
    },
    {
     "name": "stderr",
     "output_type": "stream",
     "text": [
      "/home/joaquim/anaconda3/lib/python3.6/site-packages/ipykernel/__main__.py:5: DeprecationWarning: elementwise != comparison failed; this will raise an error in the future.\n",
      "/home/joaquim/anaconda3/lib/python3.6/site-packages/ipykernel/__main__.py:5: VisibleDeprecationWarning: using a boolean instead of an integer will result in an error in the future\n"
     ]
    }
   ],
   "source": [
    "M[1,1] = 2\n",
    "M[2,1] = 3\n",
    "M[3,1] = 3\n",
    "\n",
    "m = M.data[M.data != []]\n",
    "\n",
    "print(m)"
   ]
  }
 ],
 "metadata": {
  "kernelspec": {
   "display_name": "Python 3",
   "language": "python",
   "name": "python3"
  },
  "language_info": {
   "codemirror_mode": {
    "name": "ipython",
    "version": 3
   },
   "file_extension": ".py",
   "mimetype": "text/x-python",
   "name": "python",
   "nbconvert_exporter": "python",
   "pygments_lexer": "ipython3",
   "version": "3.6.0"
  }
 },
 "nbformat": 4,
 "nbformat_minor": 2
}
